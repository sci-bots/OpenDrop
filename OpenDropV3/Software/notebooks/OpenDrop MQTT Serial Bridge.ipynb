{
 "cells": [
  {
   "cell_type": "code",
   "execution_count": 1,
   "id": "78be1148-0038-411e-a59c-38157e925531",
   "metadata": {},
   "outputs": [
    {
     "name": "stdout",
     "output_type": "stream",
     "text": [
      "received message:  {\"command\": \"identify\"}\n",
      "result: GaudiLabs,OpenDrop,#00,v3.2\n",
      "received message:  {\"command\": \"voltage\", \"type\": \"property\"}\n",
      "result: 100.0\n"
     ]
    },
    {
     "name": "stderr",
     "output_type": "stream",
     "text": [
      "Exception in thread Thread-6:\n",
      "Traceback (most recent call last):\n",
      "  File \"C:\\Users\\ryan\\miniconda3\\envs\\opendrop\\lib\\threading.py\", line 954, in _bootstrap_inner\n",
      "    self.run()\n",
      "  File \"C:\\Users\\ryan\\miniconda3\\envs\\opendrop\\lib\\threading.py\", line 892, in run\n",
      "    self._target(*self._args, **self._kwargs)\n",
      "  File \"C:\\Users\\ryan\\miniconda3\\envs\\opendrop\\lib\\site-packages\\paho\\mqtt\\client.py\", line 3452, in _thread_main\n",
      "    self.loop_forever(retry_first_connection=True)\n",
      "  File \"C:\\Users\\ryan\\miniconda3\\envs\\opendrop\\lib\\site-packages\\paho\\mqtt\\client.py\", line 1779, in loop_forever\n",
      "    rc = self.loop(timeout, max_packets)\n",
      "  File \"C:\\Users\\ryan\\miniconda3\\envs\\opendrop\\lib\\site-packages\\paho\\mqtt\\client.py\", line 1181, in loop\n",
      "    rc = self.loop_read(max_packets)\n",
      "  File \"C:\\Users\\ryan\\miniconda3\\envs\\opendrop\\lib\\site-packages\\paho\\mqtt\\client.py\", line 1572, in loop_read\n",
      "    rc = self._packet_read()\n",
      "  File \"C:\\Users\\ryan\\miniconda3\\envs\\opendrop\\lib\\site-packages\\paho\\mqtt\\client.py\", line 2310, in _packet_read\n",
      "    rc = self._packet_handle()\n",
      "  File \"C:\\Users\\ryan\\miniconda3\\envs\\opendrop\\lib\\site-packages\\paho\\mqtt\\client.py\", line 2936, in _packet_handle\n",
      "    return self._handle_publish()\n",
      "  File \"C:\\Users\\ryan\\miniconda3\\envs\\opendrop\\lib\\site-packages\\paho\\mqtt\\client.py\", line 3216, in _handle_publish\n",
      "    self._handle_on_message(message)\n",
      "  File \"C:\\Users\\ryan\\miniconda3\\envs\\opendrop\\lib\\site-packages\\paho\\mqtt\\client.py\", line 3444, in _handle_on_message\n",
      "    self.on_message(self, self._userdata, message)\n",
      "  File \"<ipython-input-1-23fff5a377b9>\", line 25, in on_command_recieved\n",
      "  File \"C:\\Users\\ryan\\miniconda3\\envs\\opendrop\\lib\\json\\__init__.py\", line 231, in dumps\n",
      "    return _default_encoder.encode(obj)\n",
      "  File \"C:\\Users\\ryan\\miniconda3\\envs\\opendrop\\lib\\json\\encoder.py\", line 199, in encode\n",
      "    chunks = self.iterencode(o, _one_shot=True)\n",
      "  File \"C:\\Users\\ryan\\miniconda3\\envs\\opendrop\\lib\\json\\encoder.py\", line 257, in iterencode\n",
      "    return _iterencode(o, 0)\n",
      "  File \"C:\\Users\\ryan\\miniconda3\\envs\\opendrop\\lib\\json\\encoder.py\", line 179, in default\n",
      "    raise TypeError(f'Object of type {o.__class__.__name__} '\n",
      "TypeError: Object of type ndarray is not JSON serializable\n"
     ]
    },
    {
     "name": "stdout",
     "output_type": "stream",
     "text": [
      "received message:  {\"command\": \"state_of_channels\", \"type\": \"property\"}\n",
      "result: [0 0 0 0 0 0 0 0 0 0 0 0 0 0 0 0 0 0 0 0 0 0 0 0 0 0 0 0 0 0 0 0 0 0 0 0 0\n",
      " 0 0 0 0 0 0 0 0 0 0 0 0 0 0 0 0 0 0 0 0 0 0 0 0 0 0 0 0 0 0 0 0 0 0 0 0 0\n",
      " 0 0 0 0 0 0 0 0 0 0 0 0 0 0 0 0 0 0 0 0 0 0 0 0 0 0 0 0 0 0 0 0 0 0 0 0 0\n",
      " 0 0 0 0 0 0 0 0 0 0 0 0 0 0 0 0 1]\n"
     ]
    }
   ],
   "source": [
    "import paho.mqtt.client as mqtt \n",
    "import json\n",
    "\n",
    "from opendrop_proxy import SerialProxy\n",
    "\n",
    "\n",
    "def on_command_recieved(client, userdata, message):\n",
    "    payload_str = message.payload.decode(\"utf-8\")\n",
    "    print(\"received message: \" , str(payload_str))\n",
    "    payload = json.loads(payload_str)\n",
    "    \n",
    "    if 'args' not in payload:\n",
    "        payload['args'] = []\n",
    "    if 'type' not in payload:\n",
    "        payload['type'] = 'call'\n",
    "\n",
    "    if payload['type'] == 'call':\n",
    "        f = getattr(bridge.proxy, payload['command'])\n",
    "        result = f(*payload['args'])\n",
    "    elif payload['type'] == 'property':\n",
    "        result = getattr(bridge.proxy, payload['command'])\n",
    "\n",
    "    print(\"result:\", result)\n",
    "    bridge._client.publish(\"opendrop/response\",\n",
    "                           json.dumps(result))\n",
    "\n",
    "\n",
    "class MQTTSerialBridge():\n",
    "    def __init__(self, broker, port):\n",
    "        '''\n",
    "        Initialize an MQTTSerialBridge object.\n",
    "\n",
    "        Parameters\n",
    "        ----------\n",
    "        broker : string\n",
    "            Url for the MQTT broker.\n",
    "        port : string\n",
    "            Serial port name (e.g., 'COM1' or '/dev/ttyUSB0')\n",
    "        '''\n",
    "        self._broker = broker\n",
    "        self._client = mqtt.Client(\"OpenDrop Serial Bridge\")\n",
    "        self._client.connect(broker)\n",
    "        self.proxy = SerialProxy(port)\n",
    "        \n",
    "        self._client.loop_start()\n",
    "        self._client.subscribe(\"opendrop/command\")\n",
    "        self._client.on_message=on_command_recieved\n",
    "\n",
    "\n",
    "bridge = MQTTSerialBridge(\"localhost\", 'COM32')"
   ]
  },
  {
   "cell_type": "code",
   "execution_count": null,
   "id": "d0e223d0-348a-48cb-9c6a-5b76a708e700",
   "metadata": {},
   "outputs": [],
   "source": []
  }
 ],
 "metadata": {
  "kernelspec": {
   "display_name": "Python 3",
   "language": "python",
   "name": "python3"
  },
  "language_info": {
   "codemirror_mode": {
    "name": "ipython",
    "version": 3
   },
   "file_extension": ".py",
   "mimetype": "text/x-python",
   "name": "python",
   "nbconvert_exporter": "python",
   "pygments_lexer": "ipython3",
   "version": "3.9.4"
  }
 },
 "nbformat": 4,
 "nbformat_minor": 5
}
