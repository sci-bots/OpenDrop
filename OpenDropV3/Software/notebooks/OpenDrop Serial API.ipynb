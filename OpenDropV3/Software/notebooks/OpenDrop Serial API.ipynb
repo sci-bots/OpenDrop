{
 "cells": [
  {
   "cell_type": "markdown",
   "metadata": {},
   "source": [
    "# Python SCPI interface for controlling the OpenDrop over a serial port\n",
    "\n",
    "This notebook demonstrates a simple Python-based serial interface for controlling the [OpenDrop](https://www.gaudi.ch/OpenDrop) over a serial port. The following links give some background on the Standard Commands for Programmable Instruments (SCPI): a syntax/command standard commonly used for programmable test and measurement equipment.\n",
    "\n",
    "* [Wikipedia page](https://en.wikipedia.org/wiki/Standard_Commands_for_Programmable_Instruments)\n",
    "* https://goughlui.com/2021/03/28/tutorial-introduction-to-scpi-automation-of-test-equipment-with-pyvisa/\n",
    "\n",
    "This implementation makes use of the [Vrekrer scpi parser library](https://github.com/Vrekrer/Vrekrer_scpi_parser) for Arduino. Using SCPI should theoretically provide compatibility with [LabVIEW](https://en.wikipedia.org/wiki/LabVIEW) and/or [PyVISA](https://pyvisa.readthedocs.io/en/latest/), and provides a simple, text-based protocol that makes it easy to add other language bindings.\n",
    "\n",
    "Note that this notebook requires a [custom firmware](https://github.com/sci-bots/OpenDrop/commit/769bed2d3c367adf2ff1a4c2b7cdbfc0f70d5d52) for the OpenDrop v3.2."
   ]
  },
  {
   "cell_type": "code",
   "execution_count": 1,
   "metadata": {},
   "outputs": [],
   "source": [
    "import serial\n",
    "import numpy as np\n",
    "import struct\n",
    "\n",
    "\n",
    "class SerialProxy():\n",
    "    def __init__(self, port):\n",
    "        '''\n",
    "        Initialize a SerialProxy object.\n",
    "\n",
    "        Parameters\n",
    "        ----------\n",
    "        port : string\n",
    "            Serial port name (e.g., 'COM1' or '/dev/ttyUSB0')\n",
    "        '''\n",
    "        self._serial = serial.Serial(port, 115200)\n",
    "        \n",
    "        (self.manufacturer, self.model, self.serial_number,\n",
    "             self.software_version) = self.identify().split(',')\n",
    "        \n",
    "    def __del__(self):\n",
    "        # Release the serial port\n",
    "        self._serial.close()\n",
    "\n",
    "    def identify(self):\n",
    "        # Return a string that uniquely identifies the OpenDrop.\n",
    "        # The string is of the form \"GaudiLabs,<model>,<serial number>,<software revision>\" .\n",
    "        self._serial.write(b\"*IDN?\\n\")\n",
    "        return self._serial.readline().strip().decode()\n",
    "    \n",
    "    @property\n",
    "    def voltage(self):\n",
    "        '''\n",
    "        Get the voltage.\n",
    "\n",
    "        Returns\n",
    "        ----------\n",
    "        value : float\n",
    "            RMS voltage.\n",
    "        '''\n",
    "        self._serial.write(b\"VOLTAGE?\\n\")\n",
    "        return float(self._serial.readline().strip())\n",
    "    \n",
    "    @voltage.setter\n",
    "    def voltage(self, value):\n",
    "        '''\n",
    "        Set the voltage.\n",
    "\n",
    "        Parameters\n",
    "        ----------\n",
    "        value : float\n",
    "            RMS voltage.\n",
    "        '''\n",
    "        self._serial.write(b\"VOLTAGE %f\\n\" % value)\n",
    "    \n",
    "    def set_state_of_channels(self, state):\n",
    "        '''\n",
    "        Set state of channels on device using state bytes.\n",
    "\n",
    "        See also: `state_of_channels` (get)\n",
    "\n",
    "        Parameters\n",
    "        ----------\n",
    "        states : list or np.array\n",
    "            0 or 1 for each channel (size must be equal to the total\n",
    "            number of channels).\n",
    "        '''\n",
    "        assert(len(state) == len(self.state_of_channels))\n",
    "        \n",
    "        # Cast the incoming state variable as a numpy byte array\n",
    "        state_of_channels = np.array(state).astype(np.uint8)\n",
    "\n",
    "        # Pack the channel array into a hex formatted string\n",
    "        proxy._serial.write(b'CHAN:STAT ' + \n",
    "                            ''.join(['%02x' % x for x in np.packbits(\n",
    "                                state_of_channels)]).encode() +\n",
    "                            b'\\n')\n",
    "                            \n",
    "    @property\n",
    "    def state_of_channels(self):\n",
    "        '''\n",
    "        Get the state of the channels on device.\n",
    "\n",
    "        See also: `set_state_of_channels`\n",
    "\n",
    "        Returns\n",
    "        ----------\n",
    "        states : np.array\n",
    "            0 or 1 for each channel.\n",
    "        '''\n",
    "        proxy._serial.write(b'CHAN:STAT?\\n')\n",
    "        state_str = proxy._serial.readline().strip().decode()\n",
    "        \n",
    "        # Unpack the channel state array from a hex formatted string into an\n",
    "        # array.\n",
    "        return np.unpackbits(np.array(\n",
    "            struct.unpack('B'*16,bytearray.fromhex(state_str)), np.uint8))\n",
    "\n",
    "\n",
    "# Delete any existing proxy object to prevent errors from trying to re-open\n",
    "# the serial port\n",
    "try:\n",
    "    del(proxy)\n",
    "except:\n",
    "    pass\n",
    "\n",
    "\n",
    "# Create a serial proxy object (change the port depending on your device)\n",
    "proxy = SerialProxy('COM32')"
   ]
  },
  {
   "cell_type": "code",
   "execution_count": 2,
   "metadata": {},
   "outputs": [],
   "source": [
    "# Turn on channel 8\n",
    "state_of_channels = np.zeros(128)\n",
    "state_of_channels[8] = 1\n",
    "proxy.set_state_of_channels(state_of_channels)"
   ]
  },
  {
   "cell_type": "code",
   "execution_count": 3,
   "metadata": {},
   "outputs": [],
   "source": [
    "# Turn on channels 10, 20 and 30\n",
    "state_of_channels = np.zeros(128)\n",
    "state_of_channels[[10, 20, 30]] = 1\n",
    "proxy.set_state_of_channels(state_of_channels)"
   ]
  },
  {
   "cell_type": "code",
   "execution_count": 4,
   "metadata": {},
   "outputs": [],
   "source": [
    "# Sweep across all channels\n",
    "for i in range(128):\n",
    "    state_of_channels = np.zeros(128)\n",
    "    state_of_channels[i] = 1\n",
    "    proxy.set_state_of_channels(state_of_channels)"
   ]
  },
  {
   "cell_type": "code",
   "execution_count": 5,
   "metadata": {},
   "outputs": [
    {
     "data": {
      "text/plain": [
       "array([0, 0, 0, 0, 0, 0, 0, 0, 0, 0, 0, 0, 0, 0, 0, 0, 0, 0, 0, 0, 0, 0,\n",
       "       0, 0, 0, 0, 0, 0, 0, 0, 0, 0, 0, 0, 0, 0, 0, 0, 0, 0, 0, 0, 0, 0,\n",
       "       0, 0, 0, 0, 0, 0, 0, 0, 0, 0, 0, 0, 0, 0, 0, 0, 0, 0, 0, 0, 0, 0,\n",
       "       0, 0, 0, 0, 0, 0, 0, 0, 0, 0, 0, 0, 0, 0, 0, 0, 0, 0, 0, 0, 0, 0,\n",
       "       0, 0, 0, 0, 0, 0, 0, 0, 0, 0, 0, 0, 0, 0, 0, 0, 0, 0, 0, 0, 0, 0,\n",
       "       0, 0, 0, 0, 0, 0, 0, 0, 0, 0, 0, 0, 0, 0, 0, 0, 0, 1], dtype=uint8)"
      ]
     },
     "execution_count": 5,
     "metadata": {},
     "output_type": "execute_result"
    }
   ],
   "source": [
    "# Get the current state of the channels\n",
    "proxy.state_of_channels"
   ]
  },
  {
   "cell_type": "code",
   "execution_count": 6,
   "metadata": {},
   "outputs": [],
   "source": [
    "# Set the voltage\n",
    "proxy.voltage = 100"
   ]
  },
  {
   "cell_type": "code",
   "execution_count": 7,
   "metadata": {},
   "outputs": [
    {
     "data": {
      "text/plain": [
       "100.0"
      ]
     },
     "execution_count": 7,
     "metadata": {},
     "output_type": "execute_result"
    }
   ],
   "source": [
    "# Get the current voltage\n",
    "proxy.voltage"
   ]
  },
  {
   "cell_type": "code",
   "execution_count": null,
   "metadata": {},
   "outputs": [],
   "source": []
  }
 ],
 "metadata": {
  "kernelspec": {
   "display_name": "Python 3",
   "language": "python",
   "name": "python3"
  },
  "language_info": {
   "codemirror_mode": {
    "name": "ipython",
    "version": 3
   },
   "file_extension": ".py",
   "mimetype": "text/x-python",
   "name": "python",
   "nbconvert_exporter": "python",
   "pygments_lexer": "ipython3",
   "version": "3.6.12"
  }
 },
 "nbformat": 4,
 "nbformat_minor": 4
}
