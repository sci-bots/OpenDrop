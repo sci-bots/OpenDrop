{
 "cells": [
  {
   "cell_type": "markdown",
   "metadata": {},
   "source": [
    "# Python SCPI interface for controlling the OpenDrop over a serial port\n",
    "\n",
    "This notebook demonstrates a simple Python-based serial interface for controlling the [OpenDrop](https://www.gaudi.ch/OpenDrop) over a serial port. The following links give some background on the Standard Commands for Programmable Instruments (SCPI): a syntax/command standard commonly used for programmable test and measurement equipment.\n",
    "\n",
    "* [Wikipedia page](https://en.wikipedia.org/wiki/Standard_Commands_for_Programmable_Instruments)\n",
    "* [A great intro/tutorial on automating test equipment with PyVISA/SCPI](https://goughlui.com/2021/03/28/tutorial-introduction-to-scpi-automation-of-test-equipment-with-pyvisa/)\n",
    "\n",
    "This implementation makes use of the [Vrekrer scpi parser library](https://github.com/Vrekrer/Vrekrer_scpi_parser) for Arduino. Using SCPI should theoretically provide compatibility with [LabVIEW](https://en.wikipedia.org/wiki/LabVIEW) and/or [PyVISA](https://pyvisa.readthedocs.io/en/latest/), and provides a simple, text-based protocol that makes it easy to add other language bindings.\n",
    "\n",
    "Note that this notebook requires a [custom firmware](https://github.com/sci-bots/OpenDrop/commit/769bed2d3c367adf2ff1a4c2b7cdbfc0f70d5d52) for the OpenDrop v3.2.\n",
    "\n",
    "## Setup\n",
    "\n",
    "To run this notebook, you first need to install Python and a few dependencies (e.g. jupyterlab, numpy, pyserial). These instructions are for a [miniconda](https://docs.conda.io/en/latest/miniconda.html) installation, though the should be easily adaptable to other python environments (e.g., system python and Virtual envs).\n",
    "\n",
    "```sh\n",
    "conda create --name opendrop\n",
    "conda activate opendrop\n",
    "conda config --env --add channels conda-forge\n",
    "conda install python jupyterlab numpy matplotlib pyserial\n",
    "```"
   ]
  },
  {
   "cell_type": "code",
   "execution_count": 1,
   "metadata": {},
   "outputs": [],
   "source": [
    "from opendrop_proxy import SerialProxy\n",
    "import numpy as np\n",
    "\n",
    "# Delete any existing proxy object to prevent errors from trying to re-open\n",
    "# the serial port\n",
    "try:\n",
    "    del(proxy)\n",
    "except:\n",
    "    pass\n",
    "\n",
    "# Create a serial proxy object (change the port depending on your device)\n",
    "proxy = SerialProxy('COM32')"
   ]
  },
  {
   "cell_type": "code",
   "execution_count": 2,
   "metadata": {},
   "outputs": [
    {
     "data": {
      "text/plain": [
       "'GaudiLabs,OpenDrop,#00,v3.2'"
      ]
     },
     "execution_count": 2,
     "metadata": {},
     "output_type": "execute_result"
    }
   ],
   "source": [
    "# Get the identity of the instrument\n",
    "proxy.identify()"
   ]
  },
  {
   "cell_type": "code",
   "execution_count": 3,
   "metadata": {},
   "outputs": [],
   "source": [
    "# Set the voltage\n",
    "proxy.voltage = 200"
   ]
  },
  {
   "cell_type": "code",
   "execution_count": 4,
   "metadata": {},
   "outputs": [
    {
     "data": {
      "text/plain": [
       "200.0"
      ]
     },
     "execution_count": 4,
     "metadata": {},
     "output_type": "execute_result"
    }
   ],
   "source": [
    "# Get the current voltage\n",
    "proxy.voltage"
   ]
  },
  {
   "cell_type": "code",
   "execution_count": 5,
   "metadata": {},
   "outputs": [
    {
     "data": {
      "text/plain": [
       "array([0, 0, 0, 0, 0, 0, 0, 0, 0, 0, 1, 0, 0, 0, 0, 0, 0, 0, 0, 0, 1, 0,\n",
       "       0, 0, 0, 0, 0, 0, 0, 0, 1, 0, 0, 0, 0, 0, 0, 0, 0, 0, 0, 0, 0, 0,\n",
       "       0, 0, 0, 0, 0, 0, 0, 0, 0, 0, 0, 0, 0, 0, 0, 0, 0, 0, 0, 0, 0, 0,\n",
       "       0, 0, 0, 0, 0, 0, 0, 0, 0, 0, 0, 0, 0, 0, 0, 0, 0, 0, 0, 0, 0, 0,\n",
       "       0, 0, 0, 0, 0, 0, 0, 0, 0, 0, 0, 0, 0, 0, 0, 0, 0, 0, 0, 0, 0, 0,\n",
       "       0, 0, 0, 0, 0, 0, 0, 0, 0, 0, 0, 0, 0, 0, 0, 0, 0, 0], dtype=uint8)"
      ]
     },
     "execution_count": 5,
     "metadata": {},
     "output_type": "execute_result"
    }
   ],
   "source": [
    "# Turn on channels 10, 20 and 30\n",
    "state_of_channels = np.zeros(128)\n",
    "state_of_channels[[10, 20, 30]] = 1\n",
    "proxy.set_state_of_channels(state_of_channels)\n",
    "\n",
    "# Get the current state of the channels\n",
    "proxy.state_of_channels"
   ]
  },
  {
   "cell_type": "code",
   "execution_count": 6,
   "metadata": {},
   "outputs": [
    {
     "data": {
      "text/plain": [
       "array([0, 0, 0, 0, 0, 0, 0, 0, 0, 0, 0, 0, 0, 0, 0, 0, 0, 0, 0, 0, 0, 0,\n",
       "       0, 0, 0, 0, 0, 0, 0, 0, 0, 0, 0, 0, 0, 0, 0, 0, 0, 0, 0, 0, 0, 0,\n",
       "       0, 0, 0, 0, 0, 0, 0, 0, 0, 0, 0, 0, 0, 0, 0, 0, 0, 0, 0, 0, 0, 0,\n",
       "       0, 0, 0, 0, 0, 0, 0, 0, 0, 0, 0, 0, 0, 0, 0, 0, 0, 0, 0, 0, 0, 0,\n",
       "       0, 0, 0, 0, 0, 0, 0, 0, 0, 0, 0, 0, 0, 0, 0, 0, 0, 0, 0, 0, 0, 0,\n",
       "       0, 0, 0, 0, 0, 0, 0, 0, 0, 0, 0, 0, 0, 0, 0, 0, 0, 1], dtype=uint8)"
      ]
     },
     "execution_count": 6,
     "metadata": {},
     "output_type": "execute_result"
    }
   ],
   "source": [
    "# Sweep across all channels\n",
    "for i in range(128):\n",
    "    state_of_channels = np.zeros(128)\n",
    "    state_of_channels[i] = 1\n",
    "    proxy.set_state_of_channels(state_of_channels)\n",
    "    \n",
    "# Get the current state of the channels\n",
    "proxy.state_of_channels"
   ]
  },
  {
   "cell_type": "code",
   "execution_count": null,
   "metadata": {},
   "outputs": [],
   "source": []
  }
 ],
 "metadata": {
  "kernelspec": {
   "display_name": "Python 3",
   "language": "python",
   "name": "python3"
  },
  "language_info": {
   "codemirror_mode": {
    "name": "ipython",
    "version": 3
   },
   "file_extension": ".py",
   "mimetype": "text/x-python",
   "name": "python",
   "nbconvert_exporter": "python",
   "pygments_lexer": "ipython3",
   "version": "3.9.4"
  }
 },
 "nbformat": 4,
 "nbformat_minor": 4
}
