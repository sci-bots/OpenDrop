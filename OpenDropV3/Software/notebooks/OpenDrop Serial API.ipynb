{
 "cells": [
  {
   "cell_type": "code",
   "execution_count": 1,
   "metadata": {},
   "outputs": [],
   "source": [
    "import serial\n",
    "import numpy as np\n",
    "\n",
    "class SerialProxy():\n",
    "    def __init__(self, port):\n",
    "        '''\n",
    "        Initialize a SerialProxy object.\n",
    "\n",
    "        Parameters\n",
    "        ----------\n",
    "        port : string\n",
    "            Serial port name (e.g., 'COM1' or '/dev/ttyUSB0')\n",
    "        '''\n",
    "        self._serial = serial.Serial(port, 115200)\n",
    "        self.state_of_channels = np.zeros(128, np.uint8)\n",
    "\n",
    "    def __del__(self):\n",
    "        # Release the serial port\n",
    "        self._serial.close()\n",
    "        \n",
    "    def set_state_of_channels(self, state):\n",
    "        '''\n",
    "        Set state of channels on device using state bytes.\n",
    "\n",
    "        See also: `state_of_channels` (get)\n",
    "\n",
    "        Parameters\n",
    "        ----------\n",
    "        states : list or np.array\n",
    "            0 or 1 for each channel (size must be equal to the total\n",
    "            number of channels).\n",
    "        '''\n",
    "        assert(len(state) == len(self.state_of_channels))\n",
    "        \n",
    "        # Cast the incoming state variable as a numpy byte array\n",
    "        self.state_of_channels = np.array(state).astype(np.uint8)\n",
    "\n",
    "        # Write the data to the serial port, but note that we need to send a\n",
    "        # maximum of 32 bytes at a time to prevent overrunning the Arduino's\n",
    "        # serial buffer.\n",
    "        buffer_size = 32\n",
    "        for i in range(0, int(len(state) / buffer_size)):\n",
    "            self._serial.write(\n",
    "                self.state_of_channels[i * buffer_size: (i+1) * buffer_size])\n",
    "\n",
    "# Delete any existing proxy object to prevent errors from trying to re-open\n",
    "# the serial port\n",
    "try:\n",
    "    del(proxy)\n",
    "except:\n",
    "    pass\n",
    "\n",
    "# Create a serial proxy object (change the port depending on your device)\n",
    "proxy = SerialProxy('COM32')"
   ]
  },
  {
   "cell_type": "code",
   "execution_count": 2,
   "metadata": {},
   "outputs": [],
   "source": [
    "# Turn on channel 8\n",
    "state_of_channels = np.zeros(128)\n",
    "state_of_channels[8] = 1\n",
    "proxy.set_state_of_channels(state_of_channels)"
   ]
  },
  {
   "cell_type": "code",
   "execution_count": 3,
   "metadata": {},
   "outputs": [],
   "source": [
    "# Turn on channels 10, 20 and 30\n",
    "state_of_channels = np.zeros(128)\n",
    "state_of_channels[[10, 20, 30]] = 1\n",
    "proxy.set_state_of_channels(state_of_channels)"
   ]
  },
  {
   "cell_type": "code",
   "execution_count": 4,
   "metadata": {},
   "outputs": [],
   "source": [
    "# Sweep across all channels\n",
    "for i in range(128):\n",
    "    state_of_channels = np.zeros(128)\n",
    "    state_of_channels[i] = 1\n",
    "    proxy.set_state_of_channels(state_of_channels)"
   ]
  },
  {
   "cell_type": "code",
   "execution_count": 5,
   "metadata": {},
   "outputs": [
    {
     "data": {
      "text/plain": [
       "array([0, 0, 0, 0, 0, 0, 0, 0, 0, 0, 0, 0, 0, 0, 0, 0, 0, 0, 0, 0, 0, 0,\n",
       "       0, 0, 0, 0, 0, 0, 0, 0, 0, 0, 0, 0, 0, 0, 0, 0, 0, 0, 0, 0, 0, 0,\n",
       "       0, 0, 0, 0, 0, 0, 0, 0, 0, 0, 0, 0, 0, 0, 0, 0, 0, 0, 0, 0, 0, 0,\n",
       "       0, 0, 0, 0, 0, 0, 0, 0, 0, 0, 0, 0, 0, 0, 0, 0, 0, 0, 0, 0, 0, 0,\n",
       "       0, 0, 0, 0, 0, 0, 0, 0, 0, 0, 0, 0, 0, 0, 0, 0, 0, 0, 0, 0, 0, 0,\n",
       "       0, 0, 0, 0, 0, 0, 0, 0, 0, 0, 0, 0, 0, 0, 0, 0, 0, 1], dtype=uint8)"
      ]
     },
     "execution_count": 5,
     "metadata": {},
     "output_type": "execute_result"
    }
   ],
   "source": [
    "# Show the current state of the channels\n",
    "proxy.state_of_channels"
   ]
  },
  {
   "cell_type": "code",
   "execution_count": null,
   "metadata": {},
   "outputs": [],
   "source": []
  }
 ],
 "metadata": {
  "kernelspec": {
   "display_name": "Python 3",
   "language": "python",
   "name": "python3"
  },
  "language_info": {
   "codemirror_mode": {
    "name": "ipython",
    "version": 3
   },
   "file_extension": ".py",
   "mimetype": "text/x-python",
   "name": "python",
   "nbconvert_exporter": "python",
   "pygments_lexer": "ipython3",
   "version": "3.6.12"
  }
 },
 "nbformat": 4,
 "nbformat_minor": 4
}
