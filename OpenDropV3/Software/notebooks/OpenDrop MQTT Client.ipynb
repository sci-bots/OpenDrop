{
 "cells": [
  {
   "cell_type": "code",
   "execution_count": 1,
   "id": "752b9612-7f25-4c08-8989-d805f22f599d",
   "metadata": {},
   "outputs": [],
   "source": [
    "import json\n",
    "\n",
    "import paho.mqtt.client as mqtt\n",
    "\n",
    "\n",
    "def on_response_recieved(client, userdata, message):\n",
    "    payload_str = message.payload.decode(\"utf-8\")\n",
    "    #print(\"received message: \" , str(payload_str))\n",
    "    payload = json.loads(payload_str)\n",
    "    proxy._response = payload\n",
    "\n",
    "\n",
    "class MQTTProxy():\n",
    "    def __init__(self, broker):\n",
    "        '''\n",
    "        Initialize an MQTTProxy object.\n",
    "\n",
    "        Parameters\n",
    "        ----------\n",
    "        broker : string\n",
    "            Url for the MQTT broker.\n",
    "        '''\n",
    "        self._broker = broker\n",
    "        self._client = mqtt.Client(\"OpenDrop Remote Proxy\")\n",
    "        self._client.connect(broker)\n",
    "        \n",
    "        self._client.loop_start()\n",
    "        self._client.subscribe(\"opendrop/response\")\n",
    "        self._client.on_message=on_response_recieved\n",
    "        self._response = {}\n",
    "        \n",
    "    def identify(self):\n",
    "        # Return a string that uniquely identifies the OpenDrop.\n",
    "        # The string is of the form \"GaudiLabs,<model>,<serial number>,<software revision>\" .\n",
    "        self._client.publish(\"opendrop/command\",\n",
    "                             json.dumps({'command': 'identify'}))\n",
    "        while not self._response:\n",
    "            pass\n",
    "        response = self._response\n",
    "        self._response = {}\n",
    "        return response\n",
    "\n",
    "    def wait_for_response(self):\n",
    "        # TODO: fix this hacky way to wait for a response\n",
    "        while not self._response:\n",
    "            pass\n",
    "        response = self._response\n",
    "        self._response = {}\n",
    "        return response\n",
    "    \n",
    "    def set_voltage(self, voltage):\n",
    "        self._client.publish(\"opendrop/command\",\n",
    "                             json.dumps({'command': 'set_voltage', 'args': [voltage]}))\n",
    "\n",
    "    @property\n",
    "    def voltage(self,):\n",
    "        self._client.publish(\"opendrop/command\",\n",
    "                             json.dumps({'command': 'voltage', 'type': 'property'}))\n",
    "        return self.wait_for_response()\n",
    "    \n",
    "    @property\n",
    "    def state_of_channels(self,):\n",
    "        self._client.publish(\"opendrop/command\",\n",
    "                             json.dumps({'command': 'state_of_channels', 'type': 'property'}))\n",
    "        return self.wait_for_response()"
   ]
  },
  {
   "cell_type": "code",
   "execution_count": 2,
   "id": "ed719a47-0f46-48e2-9583-31345e923bfd",
   "metadata": {},
   "outputs": [],
   "source": [
    "# Connect to an mqtt broker\n",
    "proxy = MQTTProxy(\"localhost\")"
   ]
  },
  {
   "cell_type": "code",
   "execution_count": 3,
   "id": "763384e2-840d-4121-9c5f-6af194e17949",
   "metadata": {},
   "outputs": [
    {
     "data": {
      "text/plain": [
       "'GaudiLabs,OpenDrop,#00,v3.2'"
      ]
     },
     "execution_count": 3,
     "metadata": {},
     "output_type": "execute_result"
    }
   ],
   "source": [
    "proxy.identify()"
   ]
  },
  {
   "cell_type": "code",
   "execution_count": 4,
   "id": "b8b36447-7783-4c37-9af0-07cf547fea73",
   "metadata": {},
   "outputs": [
    {
     "data": {
      "text/plain": [
       "100.0"
      ]
     },
     "execution_count": 4,
     "metadata": {},
     "output_type": "execute_result"
    }
   ],
   "source": [
    "proxy.voltage"
   ]
  },
  {
   "cell_type": "code",
   "execution_count": null,
   "id": "450738cf-6b8c-4e16-9a48-21cf6a4d5719",
   "metadata": {},
   "outputs": [],
   "source": [
    "proxy.state_of_channels"
   ]
  },
  {
   "cell_type": "code",
   "execution_count": null,
   "id": "9e30a3fd-95dc-4595-a520-f6305b87bd97",
   "metadata": {},
   "outputs": [],
   "source": []
  }
 ],
 "metadata": {
  "kernelspec": {
   "display_name": "Python 3",
   "language": "python",
   "name": "python3"
  },
  "language_info": {
   "codemirror_mode": {
    "name": "ipython",
    "version": 3
   },
   "file_extension": ".py",
   "mimetype": "text/x-python",
   "name": "python",
   "nbconvert_exporter": "python",
   "pygments_lexer": "ipython3",
   "version": "3.9.4"
  }
 },
 "nbformat": 4,
 "nbformat_minor": 5
}
