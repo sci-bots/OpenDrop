{
 "cells": [
  {
   "cell_type": "code",
   "execution_count": 1,
   "id": "752b9612-7f25-4c08-8989-d805f22f599d",
   "metadata": {},
   "outputs": [],
   "source": [
    "import paho.mqtt.client as mqtt\n",
    "import json_tricks as jt\n",
    "import numpy as np\n",
    "\n",
    "\n",
    "def on_response_recieved(client, userdata, message):\n",
    "    '''\n",
    "    Callback function to handle mqtt messages. Note that this being called\n",
    "    from the paho client event loop. Not sure how this is implemented\n",
    "    (i.e., is it happening in a background thread?). There are likely\n",
    "    thread safetey implications.\n",
    "    '''\n",
    "    payload_str = message.payload.decode(\"utf-8\")\n",
    "    #print(\"received message: \" , str(payload_str))\n",
    "    payload = jt.loads(payload_str)\n",
    "    proxy._response = payload\n",
    "\n",
    "\n",
    "class MQTTProxy():\n",
    "    def __init__(self, broker):\n",
    "        '''\n",
    "        Initialize an MQTTProxy object.\n",
    "\n",
    "        Parameters\n",
    "        ----------\n",
    "        broker : string\n",
    "            Url for the MQTT broker.\n",
    "        '''\n",
    "        self._broker = broker\n",
    "        self._client = mqtt.Client(\"OpenDrop Remote Proxy\")\n",
    "        self._client.connect(broker)\n",
    "        \n",
    "        self._client.loop_start()\n",
    "        self._client.subscribe(\"opendrop/response\")\n",
    "        self._client.on_message=on_response_recieved\n",
    "        self._response = {}\n",
    "        \n",
    "    def identify(self):\n",
    "        self._client.publish(\"opendrop/command\",\n",
    "                             jt.dumps({'command': 'identify'}))\n",
    "        return self.wait_for_response()\n",
    "\n",
    "    def wait_for_response(self):\n",
    "        # TODO: Fix this super hacky way to wait for a response and use\n",
    "        # something that is thread safe (e.g., events).\n",
    "        while self._response == {}:\n",
    "            pass\n",
    "        payload = self._response\n",
    "        self._response = {}\n",
    "        return payload['return']\n",
    "\n",
    "    @property\n",
    "    def voltage(self,):\n",
    "        self._client.publish(\"opendrop/command\",\n",
    "                             jt.dumps({'command': 'voltage', 'type': 'property'}))\n",
    "        return self.wait_for_response()\n",
    "    \n",
    "    @voltage.setter\n",
    "    def voltage(self, voltage):\n",
    "        self._client.publish(\"opendrop/command\",\n",
    "                             jt.dumps({'command': 'voltage',\n",
    "                                         'args': [voltage], 'type': 'property'}))\n",
    "\n",
    "    @property\n",
    "    def state_of_channels(self):\n",
    "        self._client.publish(\"opendrop/command\",\n",
    "                             jt.dumps({'command': 'state_of_channels', 'type': 'property'}))\n",
    "        return self.wait_for_response()\n",
    "    \n",
    "    def set_state_of_channels(self, value):\n",
    "        self._client.publish(\"opendrop/command\",\n",
    "                             jt.dumps({'command': 'set_state_of_channels',\n",
    "                                       'args': [value]}))"
   ]
  },
  {
   "cell_type": "code",
   "execution_count": 2,
   "id": "61bd6f98-c8b1-4af4-8c3e-121710bd4ac1",
   "metadata": {},
   "outputs": [],
   "source": [
    "# Create a mqtt proxy object\n",
    "proxy = MQTTProxy(\"test.mosquitto.org\")"
   ]
  },
  {
   "cell_type": "code",
   "execution_count": 3,
   "id": "535c69c4-e1cb-4900-b3c4-f706226b1973",
   "metadata": {},
   "outputs": [
    {
     "data": {
      "text/plain": [
       "'GaudiLabs,OpenDrop,#00,v3.2'"
      ]
     },
     "execution_count": 3,
     "metadata": {},
     "output_type": "execute_result"
    }
   ],
   "source": [
    "# Get the identity of the instrument\n",
    "proxy.identify()"
   ]
  },
  {
   "cell_type": "code",
   "execution_count": 4,
   "id": "4cffe772-2da7-4fff-a1e5-aa298d1df145",
   "metadata": {},
   "outputs": [],
   "source": [
    "# Set the voltage\n",
    "proxy.voltage = 200"
   ]
  },
  {
   "cell_type": "code",
   "execution_count": 5,
   "id": "c5731442-35b1-4687-9379-25bbfbf2efb7",
   "metadata": {},
   "outputs": [
    {
     "data": {
      "text/plain": [
       "200.0"
      ]
     },
     "execution_count": 5,
     "metadata": {},
     "output_type": "execute_result"
    }
   ],
   "source": [
    "# Get the current voltage\n",
    "proxy.voltage"
   ]
  },
  {
   "cell_type": "code",
   "execution_count": 6,
   "id": "763384e2-840d-4121-9c5f-6af194e17949",
   "metadata": {},
   "outputs": [
    {
     "data": {
      "text/plain": [
       "array([0, 0, 0, 0, 0, 0, 0, 0, 0, 0, 1, 0, 0, 0, 0, 0, 0, 0, 0, 0, 1, 0,\n",
       "       0, 0, 0, 0, 0, 0, 0, 0, 1, 0, 0, 0, 0, 0, 0, 0, 0, 0, 0, 0, 0, 0,\n",
       "       0, 0, 0, 0, 0, 0, 0, 0, 0, 0, 0, 0, 0, 0, 0, 0, 0, 0, 0, 0, 0, 0,\n",
       "       0, 0, 0, 0, 0, 0, 0, 0, 0, 0, 0, 0, 0, 0, 0, 0, 0, 0, 0, 0, 0, 0,\n",
       "       0, 0, 0, 0, 0, 0, 0, 0, 0, 0, 0, 0, 0, 0, 0, 0, 0, 0, 0, 0, 0, 0,\n",
       "       0, 0, 0, 0, 0, 0, 0, 0, 0, 0, 0, 0, 0, 0, 0, 0, 0, 0], dtype=uint8)"
      ]
     },
     "execution_count": 6,
     "metadata": {},
     "output_type": "execute_result"
    }
   ],
   "source": [
    "# Turn on channels 10, 20 and 30\n",
    "state_of_channels = np.zeros(128)\n",
    "state_of_channels[[10, 20, 30]] = 1\n",
    "proxy.set_state_of_channels(state_of_channels)\n",
    "\n",
    "# Get the current state of the channels\n",
    "proxy.state_of_channels"
   ]
  },
  {
   "cell_type": "code",
   "execution_count": 7,
   "id": "b8b36447-7783-4c37-9af0-07cf547fea73",
   "metadata": {},
   "outputs": [
    {
     "data": {
      "text/plain": [
       "array([0, 0, 0, 0, 0, 0, 0, 0, 0, 1, 0, 0, 0, 0, 0, 0, 0, 0, 0, 0, 0, 0,\n",
       "       0, 0, 0, 0, 0, 0, 0, 0, 0, 0, 0, 0, 0, 0, 0, 0, 0, 0, 0, 0, 0, 0,\n",
       "       0, 0, 0, 0, 0, 0, 0, 0, 0, 0, 0, 0, 0, 0, 0, 0, 0, 0, 0, 0, 0, 0,\n",
       "       0, 0, 0, 0, 0, 0, 0, 0, 0, 0, 0, 0, 0, 0, 0, 0, 0, 0, 0, 0, 0, 0,\n",
       "       0, 0, 0, 0, 0, 0, 0, 0, 0, 0, 0, 0, 0, 0, 0, 0, 0, 0, 0, 0, 0, 0,\n",
       "       0, 0, 0, 0, 0, 0, 0, 0, 0, 0, 0, 0, 0, 0, 0, 0, 0, 0], dtype=uint8)"
      ]
     },
     "execution_count": 7,
     "metadata": {},
     "output_type": "execute_result"
    }
   ],
   "source": [
    "# Sweep across channels 1-10\n",
    "for i in range(10):\n",
    "    state_of_channels = np.zeros(128)\n",
    "    state_of_channels[i] = 1\n",
    "    proxy.set_state_of_channels(state_of_channels)\n",
    "    \n",
    "# Get the current state of the channels\n",
    "proxy.state_of_channels"
   ]
  },
  {
   "cell_type": "code",
   "execution_count": null,
   "id": "65334df7-a707-49d5-92bc-850159134d42",
   "metadata": {},
   "outputs": [],
   "source": []
  }
 ],
 "metadata": {
  "kernelspec": {
   "display_name": "Python 3",
   "language": "python",
   "name": "python3"
  },
  "language_info": {
   "codemirror_mode": {
    "name": "ipython",
    "version": 3
   },
   "file_extension": ".py",
   "mimetype": "text/x-python",
   "name": "python",
   "nbconvert_exporter": "python",
   "pygments_lexer": "ipython3",
   "version": "3.9.4"
  }
 },
 "nbformat": 4,
 "nbformat_minor": 5
}
